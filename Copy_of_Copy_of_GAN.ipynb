{
  "nbformat": 4,
  "nbformat_minor": 0,
  "metadata": {
    "kernelspec": {
      "display_name": "Python 3",
      "language": "python",
      "name": "python3"
    },
    "language_info": {
      "codemirror_mode": {
        "name": "ipython",
        "version": 3
      },
      "file_extension": ".py",
      "mimetype": "text/x-python",
      "name": "python",
      "nbconvert_exporter": "python",
      "pygments_lexer": "ipython3",
      "version": "3.7.3"
    },
    "colab": {
      "name": "Copy of Copy of GAN.ipynb",
      "provenance": [],
      "collapsed_sections": [],
      "include_colab_link": true
    },
    "accelerator": "GPU"
  },
  "cells": [
    {
      "cell_type": "markdown",
      "metadata": {
        "id": "view-in-github",
        "colab_type": "text"
      },
      "source": [
        "<a href=\"https://colab.research.google.com/github/Myshgithub/Generative-Adversarial-Networks-GANs-/blob/master/Copy_of_Copy_of_GAN.ipynb\" target=\"_parent\"><img src=\"https://colab.research.google.com/assets/colab-badge.svg\" alt=\"Open In Colab\"/></a>"
      ]
    },
    {
      "cell_type": "markdown",
      "metadata": {
        "id": "3sD_9I_BRVlv",
        "colab_type": "text"
      },
      "source": [
        "# Demistifying GANs in TensorFlow 2.0"
      ]
    },
    {
      "cell_type": "code",
      "metadata": {
        "id": "bHeJwPm0RVl1",
        "colab_type": "code",
        "colab": {}
      },
      "source": [
        "import tensorflow as tf\n",
        "import numpy as np\n",
        "import matplotlib.pyplot as plt\n",
        "from tensorflow import keras"
      ],
      "execution_count": null,
      "outputs": []
    },
    {
      "cell_type": "code",
      "metadata": {
        "id": "VEAehzaERVmU",
        "colab_type": "code",
        "colab": {
          "base_uri": "https://localhost:8080/",
          "height": 35
        },
        "outputId": "d953139b-68a2-49e2-b4de-9fae0d339c26"
      },
      "source": [
        "print(tf.__version__)"
      ],
      "execution_count": null,
      "outputs": [
        {
          "output_type": "stream",
          "text": [
            "2.2.0\n"
          ],
          "name": "stdout"
        }
      ]
    },
    {
      "cell_type": "markdown",
      "metadata": {
        "id": "O7qPuhV0RVmx",
        "colab_type": "text"
      },
      "source": [
        "## Global Parameters"
      ]
    },
    {
      "cell_type": "code",
      "metadata": {
        "id": "N2-j_4HHRVnT",
        "colab_type": "code",
        "colab": {}
      },
      "source": [
        "BATCH_SIZE = 256"
      ],
      "execution_count": null,
      "outputs": []
    },
    {
      "cell_type": "code",
      "metadata": {
        "id": "kAEo0HztRVnx",
        "colab_type": "code",
        "colab": {}
      },
      "source": [
        "BUFFER_SIZE = 60000"
      ],
      "execution_count": null,
      "outputs": []
    },
    {
      "cell_type": "code",
      "metadata": {
        "id": "LVX2TvBQRVoQ",
        "colab_type": "code",
        "colab": {}
      },
      "source": [
        "EPOCHES = 100"
      ],
      "execution_count": null,
      "outputs": []
    },
    {
      "cell_type": "code",
      "metadata": {
        "id": "g8km2X2cRVol",
        "colab_type": "code",
        "colab": {}
      },
      "source": [
        "OUTPUT_DIR = \"C:\\\\Users\\sshafeie\\Documents\\Code\\GenImage\" # The output directory where the images of the generator a stored during training"
      ],
      "execution_count": null,
      "outputs": []
    },
    {
      "cell_type": "markdown",
      "metadata": {
        "id": "Tudu2tEvRVo8",
        "colab_type": "text"
      },
      "source": [
        "## Loading the MNIST dataset"
      ]
    },
    {
      "cell_type": "code",
      "metadata": {
        "id": "90RgAkE3RVo_",
        "colab_type": "code",
        "colab": {}
      },
      "source": [
        "mnist = keras.datasets.mnist"
      ],
      "execution_count": null,
      "outputs": []
    },
    {
      "cell_type": "code",
      "metadata": {
        "id": "0SgE-qSHRVpb",
        "colab_type": "code",
        "colab": {
          "base_uri": "https://localhost:8080/",
          "height": 52
        },
        "outputId": "d38b428b-8873-4e28-8982-37fc342c01cf"
      },
      "source": [
        "(train_images, train_labels), (test_images, test_labels) = mnist.load_data()"
      ],
      "execution_count": null,
      "outputs": [
        {
          "output_type": "stream",
          "text": [
            "Downloading data from https://storage.googleapis.com/tensorflow/tf-keras-datasets/mnist.npz\n",
            "11493376/11490434 [==============================] - 0s 0us/step\n"
          ],
          "name": "stdout"
        }
      ]
    },
    {
      "cell_type": "code",
      "metadata": {
        "id": "i5JHbbtoRVpt",
        "colab_type": "code",
        "colab": {
          "base_uri": "https://localhost:8080/",
          "height": 35
        },
        "outputId": "2fe1a9c3-b9a0-430e-a3fa-64daee61a609"
      },
      "source": [
        "train_images.shape"
      ],
      "execution_count": null,
      "outputs": [
        {
          "output_type": "execute_result",
          "data": {
            "text/plain": [
              "(60000, 28, 28)"
            ]
          },
          "metadata": {
            "tags": []
          },
          "execution_count": 9
        }
      ]
    },
    {
      "cell_type": "code",
      "metadata": {
        "id": "YS64w0HIRVqH",
        "colab_type": "code",
        "colab": {
          "base_uri": "https://localhost:8080/",
          "height": 283
        },
        "outputId": "a2d11a09-32f9-472a-8972-75eacb86c24c"
      },
      "source": [
        "plt.imshow(train_images[1], cmap = \"gray\")"
      ],
      "execution_count": null,
      "outputs": [
        {
          "output_type": "execute_result",
          "data": {
            "text/plain": [
              "<matplotlib.image.AxesImage at 0x7fc9e8e423c8>"
            ]
          },
          "metadata": {
            "tags": []
          },
          "execution_count": 10
        },
        {
          "output_type": "display_data",
          "data": {
            "image/png": "[encoded data removed]",
            "text/plain": [
              "<Figure size 432x288 with 1 Axes>"
            ]
          },
          "metadata": {
            "tags": [],
            "needs_background": "light"
          }
        }
      ]
    },
    {
      "cell_type": "markdown",
      "metadata": {
        "id": "7HWfaogeRVqd",
        "colab_type": "text"
      },
      "source": [
        "### Adding the Data to tf.Dataset"
      ]
    },
    {
      "cell_type": "code",
      "metadata": {
        "id": "g8DsCiVqRVqh",
        "colab_type": "code",
        "colab": {}
      },
      "source": [
        "train_images = train_images.astype(\"float32\")\n",
        "train_images = (train_images - 127.5) / 127.5"
      ],
      "execution_count": null,
      "outputs": []
    },
    {
      "cell_type": "code",
      "metadata": {
        "id": "6kmPdVzXRVq-",
        "colab_type": "code",
        "colab": {}
      },
      "source": [
        "train_dataset = tf.data.Dataset.from_tensor_slices(train_images.reshape(train_images.shape[0],784)).shuffle(BUFFER_SIZE).batch(BATCH_SIZE)"
      ],
      "execution_count": null,
      "outputs": []
    },
    {
      "cell_type": "markdown",
      "metadata": {
        "id": "tWBOARb4RVrM",
        "colab_type": "text"
      },
      "source": [
        "## Generator Network"
      ]
    },
    {
      "cell_type": "code",
      "metadata": {
        "id": "xVNIQ36yRVrP",
        "colab_type": "code",
        "colab": {}
      },
      "source": [
        "class Generator(keras.Model):\n",
        "    \n",
        "    def __init__(self, random_noise_size = 100):\n",
        "        super().__init__(name='generator')\n",
        "        #layers\n",
        "        self.input_layer = keras.layers.Dense(units = random_noise_size)\n",
        "        self.dense_1 = keras.layers.Dense(units = 128)\n",
        "        self.leaky_1 =  keras.layers.LeakyReLU(alpha = 0.01)\n",
        "        self.dense_2 = keras.layers.Dense(units = 128)\n",
        "        self.leaky_2 = keras.layers.LeakyReLU(alpha = 0.01)\n",
        "        self.dense_3 = keras.layers.Dense(units = 256)\n",
        "        self.leaky_3 = keras.layers.LeakyReLU(alpha = 0.01)\n",
        "        self.output_layer = keras.layers.Dense(units=784, activation = \"tanh\")\n",
        "        \n",
        "    def call(self, input_tensor):\n",
        "        ## Definition of Forward Pass\n",
        "        x = self.input_layer(input_tensor)\n",
        "        x = self.dense_1(x)\n",
        "        x = self.leaky_1(x)\n",
        "        x = self.dense_2(x)\n",
        "        x = self.leaky_2(x)\n",
        "        x = self.dense_3(x)\n",
        "        x = self.leaky_3(x)\n",
        "        return  self.output_layer(x)\n",
        "    \n",
        "    def generate_noise(self,batch_size, random_noise_size):\n",
        "        return np.random.uniform(-1,1, size = (batch_size, random_noise_size))"
      ],
      "execution_count": null,
      "outputs": []
    },
    {
      "cell_type": "markdown",
      "metadata": {
        "id": "bUlZA5KpRVrt",
        "colab_type": "text"
      },
      "source": [
        "### Objective Function"
      ]
    },
    {
      "cell_type": "code",
      "metadata": {
        "id": "Ifyvq_VHRVrw",
        "colab_type": "code",
        "colab": {}
      },
      "source": [
        "cross_entropy = tf.keras.losses.BinaryCrossentropy(from_logits = True)"
      ],
      "execution_count": null,
      "outputs": []
    },
    {
      "cell_type": "code",
      "metadata": {
        "id": "goQjaqIHRVsL",
        "colab_type": "code",
        "colab": {}
      },
      "source": [
        "def generator_objective(dx_of_gx):\n",
        "    # Labels are true here because generator thinks he produces real images. \n",
        "    return cross_entropy(tf.ones_like(dx_of_gx), dx_of_gx) "
      ],
      "execution_count": null,
      "outputs": []
    },
    {
      "cell_type": "markdown",
      "metadata": {
        "id": "afzYNJMkRVsZ",
        "colab_type": "text"
      },
      "source": [
        "### Plotting The Noise (Fake Image)"
      ]
    },
    {
      "cell_type": "code",
      "metadata": {
        "id": "fb-azf36RVsb",
        "colab_type": "code",
        "colab": {}
      },
      "source": [
        "generator = Generator()"
      ],
      "execution_count": null,
      "outputs": []
    },
    {
      "cell_type": "code",
      "metadata": {
        "id": "oD2NezneRVsr",
        "colab_type": "code",
        "colab": {
          "base_uri": "https://localhost:8080/",
          "height": 141
        },
        "outputId": "975b2cfa-9ece-4ccb-db59-b5df679a2423"
      },
      "source": [
        "fake_image = generator(np.random.uniform(-1,1, size =(1,100)))"
      ],
      "execution_count": null,
      "outputs": [
        {
          "output_type": "stream",
          "text": [
            "WARNING:tensorflow:Layer generator is casting an input tensor from dtype float64 to the layer's dtype of float32, which is new behavior in TensorFlow 2.  The layer has dtype float32 because it's dtype defaults to floatx.\n",
            "\n",
            "If you intended to run this layer in float32, you can safely ignore this warning. If in doubt, this warning is likely only an issue if you are porting a TensorFlow 1.X model to TensorFlow 2.\n",
            "\n",
            "To change all layers to have dtype float64 by default, call `tf.keras.backend.set_floatx('float64')`. To change just this layer, pass dtype='float64' to the layer constructor. If you are the author of this layer, you can disable autocasting by passing autocast=False to the base Layer constructor.\n",
            "\n"
          ],
          "name": "stdout"
        }
      ]
    },
    {
      "cell_type": "code",
      "metadata": {
        "id": "h1p4jcHQRVtP",
        "colab_type": "code",
        "colab": {}
      },
      "source": [
        "fake_image = tf.reshape(fake_image, shape = (28,28))"
      ],
      "execution_count": null,
      "outputs": []
    },
    {
      "cell_type": "code",
      "metadata": {
        "id": "HDPRdjSkRVte",
        "colab_type": "code",
        "colab": {
          "base_uri": "https://localhost:8080/",
          "height": 283
        },
        "outputId": "debe78c9-93d8-43b6-9da9-b9538b64624b"
      },
      "source": [
        "plt.imshow(fake_image, cmap = \"gray\")"
      ],
      "execution_count": null,
      "outputs": [
        {
          "output_type": "execute_result",
          "data": {
            "text/plain": [
              "<matplotlib.image.AxesImage at 0x7fc9e0352940>"
            ]
          },
          "metadata": {
            "tags": []
          },
          "execution_count": 19
        },
        {
          "output_type": "display_data",
          "data": {
            "image/png": "[encoded data removed]",
            "text/plain": [
              "<Figure size 432x288 with 1 Axes>"
            ]
          },
          "metadata": {
            "tags": [],
            "needs_background": "light"
          }
        }
      ]
    },
    {
      "cell_type": "markdown",
      "metadata": {
        "id": "4ZrVa-4lRVuB",
        "colab_type": "text"
      },
      "source": [
        "## Discriminator Network"
      ]
    },
    {
      "cell_type": "code",
      "metadata": {
        "id": "Rt-kn46KRVuF",
        "colab_type": "code",
        "colab": {}
      },
      "source": [
        "class Discriminator(keras.Model):\n",
        "    def __init__(self):\n",
        "        super().__init__(name = \"discriminator\")\n",
        "        \n",
        "        #Layers\n",
        "        self.input_layer = keras.layers.Dense(units = 784)\n",
        "        self.dense_1 = keras.layers.Dense(units = 128)\n",
        "        self.leaky_1 =  keras.layers.LeakyReLU(alpha = 0.01)\n",
        "        self.dense_2 = keras.layers.Dense(units = 128)\n",
        "        self.leaky_2 = keras.layers.LeakyReLU(alpha = 0.01)\n",
        "        self.dense_3 = keras.layers.Dense(units = 128)\n",
        "        self.leaky_3 = keras.layers.LeakyReLU(alpha = 0.01)\n",
        "        \n",
        "        self.logits = keras.layers.Dense(units = 1)  # This neuron tells us if the input is fake or real\n",
        "    def call(self, input_tensor):\n",
        "          ## Definition of Forward Pass\n",
        "        x = self.input_layer(input_tensor)\n",
        "        x = self.dense_1(x)\n",
        "        x = self.leaky_1(x)\n",
        "        x = self.leaky_2(x)\n",
        "        x = self.leaky_3(x)\n",
        "        x = self.leaky_3(x)\n",
        "        x = self.logits(x)\n",
        "        return x"
      ],
      "execution_count": null,
      "outputs": []
    },
    {
      "cell_type": "code",
      "metadata": {
        "id": "1TAaPid3RVuR",
        "colab_type": "code",
        "colab": {}
      },
      "source": [
        "discriminator = Discriminator()"
      ],
      "execution_count": null,
      "outputs": []
    },
    {
      "cell_type": "markdown",
      "metadata": {
        "id": "IYTfwV4ZRVuf",
        "colab_type": "text"
      },
      "source": [
        "### Objective Function"
      ]
    },
    {
      "cell_type": "code",
      "metadata": {
        "id": "axea9J-_RVuh",
        "colab_type": "code",
        "colab": {}
      },
      "source": [
        "def discriminator_objective(d_x, g_z, smoothing_factor = 0.9):\n",
        "    \"\"\"\n",
        "    d_x = real output\n",
        "    g_z = fake output\n",
        "    \"\"\"\n",
        "    real_loss = cross_entropy(tf.ones_like(d_x) * smoothing_factor, d_x) # If we feed the discriminator with real images, we assume they all are the right pictures --> Because of that label == 1\n",
        "    fake_loss = cross_entropy(tf.zeros_like(g_z), g_z) # Each noise we feed in are fakes image --> Because of that labels are 0\n",
        "    \n",
        "    total_loss = real_loss + fake_loss\n",
        "    \n",
        "    return total_loss"
      ],
      "execution_count": null,
      "outputs": []
    },
    {
      "cell_type": "markdown",
      "metadata": {
        "id": "VrRIMRUaRVu8",
        "colab_type": "text"
      },
      "source": [
        "## Optimizer"
      ]
    },
    {
      "cell_type": "code",
      "metadata": {
        "id": "gKdEdIZZRVvA",
        "colab_type": "code",
        "colab": {}
      },
      "source": [
        "generator_optimizer = keras.optimizers.RMSprop()\n",
        "discriminator_optimizer = keras.optimizers.RMSprop()"
      ],
      "execution_count": null,
      "outputs": []
    },
    {
      "cell_type": "markdown",
      "metadata": {
        "id": "qZ6OPylzRVvT",
        "colab_type": "text"
      },
      "source": [
        "## Training Functions"
      ]
    },
    {
      "cell_type": "code",
      "metadata": {
        "id": "R4UT2S3BRVvm",
        "colab_type": "code",
        "colab": {}
      },
      "source": [
        "@tf.function()\n",
        "def training_step(generator: Discriminator, discriminator: Discriminator, images:np.ndarray , k:int =1, batch_size = 32):\n",
        "    for _ in range(k):\n",
        "         with tf.GradientTape() as gen_tape, tf.GradientTape() as disc_tape:\n",
        "            noise = generator.generate_noise(batch_size, 100)\n",
        "            g_z = generator(noise)\n",
        "            d_x_true = discriminator(images) # Trainable?\n",
        "            d_x_fake = discriminator(g_z) # dx_of_gx\n",
        "\n",
        "            discriminator_loss = discriminator_objective(d_x_true, d_x_fake)\n",
        "            # Adjusting Gradient of Discriminator\n",
        "            gradients_of_discriminator = disc_tape.gradient(discriminator_loss, discriminator.trainable_variables)\n",
        "            discriminator_optimizer.apply_gradients(zip(gradients_of_discriminator, discriminator.trainable_variables)) # Takes a list of gradient and variables pairs\n",
        "            \n",
        "              \n",
        "            generator_loss = generator_objective(d_x_fake)\n",
        "            # Adjusting Gradient of Generator\n",
        "            gradients_of_generator = gen_tape.gradient(generator_loss, generator.trainable_variables)\n",
        "            generator_optimizer.apply_gradients(zip(gradients_of_generator, generator.trainable_variables)) \n",
        "    "
      ],
      "execution_count": null,
      "outputs": []
    },
    {
      "cell_type": "code",
      "metadata": {
        "id": "WCA96opCRVvx",
        "colab_type": "code",
        "colab": {}
      },
      "source": [
        "seed = np.random.uniform(-1,1, size = (1, 100)) # generating some noise for the training"
      ],
      "execution_count": null,
      "outputs": []
    },
    {
      "cell_type": "code",
      "metadata": {
        "id": "JJJK-CUDRVwA",
        "colab_type": "code",
        "colab": {}
      },
      "source": [
        "# Just to make sure the output directory exists..\n",
        "import os\n",
        "if not os.path.exists(\"C:\\\\Users\\sshafeie\\Documents\\Code\\GenImage\"):\n",
        "    os.makedirs(\"C:\\\\Users\\sshafeie\\Documents\\Code\\GenImage\")"
      ],
      "execution_count": null,
      "outputs": []
    },
    {
      "cell_type": "code",
      "metadata": {
        "id": "0qbEr0ocRVwO",
        "colab_type": "code",
        "colab": {}
      },
      "source": [
        "def training(dataset, epoches):\n",
        "    for epoch in range(epoches):\n",
        "        for batch in dataset: \n",
        "            training_step(generator, discriminator, batch ,batch_size = BATCH_SIZE, k = 1)\n",
        "            \n",
        "        ## After ith epoch plot image \n",
        "        if (epoch % 50) == 0: \n",
        "            fake_image = tf.reshape(generator(seed), shape = (28,28))\n",
        "            print(\"{}/{} epoches\".format(epoch, epoches))\n",
        "            plt.imshow(fake_image, cmap = \"gray\")\n",
        "            #plt.imsave(\"{}/{}.png\".format(OUTPUT_DIR,epoch),fake_image, cmap = \"gray\")"
      ],
      "execution_count": null,
      "outputs": []
    },
    {
      "cell_type": "code",
      "metadata": {
        "id": "qEfTbtEHRVwa",
        "colab_type": "code",
        "colab": {
          "base_uri": "https://localhost:8080/",
          "height": 335
        },
        "outputId": "a4edaa31-1134-4658-b198-a363dfb8e276"
      },
      "source": [
        "%%time\n",
        "training(train_dataset, EPOCHES)"
      ],
      "execution_count": null,
      "outputs": [
        {
          "output_type": "stream",
          "text": [
            "0/100 epoches\n",
            "50/100 epoches\n",
            "CPU times: user 2min 10s, sys: 22.3 s, total: 2min 32s\n",
            "Wall time: 2min\n"
          ],
          "name": "stdout"
        },
        {
          "output_type": "display_data",
          "data": {
            "image/png": "[encoded data removed]",
            "text/plain": [
              "<Figure size 432x288 with 1 Axes>"
            ]
          },
          "metadata": {
            "tags": [],
            "needs_background": "light"
          }
        }
      ]
    },
    {
      "cell_type": "markdown",
      "metadata": {
        "id": "Odm_UPLkRVwn",
        "colab_type": "text"
      },
      "source": [
        "## Testing the Generator"
      ]
    },
    {
      "cell_type": "code",
      "metadata": {
        "id": "4VEewDS5RVwq",
        "colab_type": "code",
        "colab": {
          "base_uri": "https://localhost:8080/",
          "height": 283
        },
        "outputId": "e6a90aeb-d833-49c3-ad44-84c701ff08d0"
      },
      "source": [
        "fake_image = generator(np.random.uniform(-1,1, size = (1, 100)))\n",
        "plt.imshow(tf.reshape(fake_image, shape = (28,28)), cmap=\"gray\")"
      ],
      "execution_count": null,
      "outputs": [
        {
          "output_type": "execute_result",
          "data": {
            "text/plain": [
              "<matplotlib.image.AxesImage at 0x7fc98c1ade80>"
            ]
          },
          "metadata": {
            "tags": []
          },
          "execution_count": 29
        },
        {
          "output_type": "display_data",
          "data": {
            "image/png": "[encoded data removed]",
            "text/plain": [
              "<Figure size 432x288 with 1 Axes>"
            ]
          },
          "metadata": {
            "tags": [],
            "needs_background": "light"
          }
        }
      ]
    },
    {
      "cell_type": "markdown",
      "metadata": {
        "id": "fA1gYNAmRVxG",
        "colab_type": "raw"
      },
      "source": [
        "plt.imsave(\"article/0.png\",tf.reshape(fake_image, shape = (28,28)), cmap=\"gray\")"
      ]
    },
    {
      "cell_type": "markdown",
      "metadata": {
        "id": "-3vJxOHiRVxH",
        "colab_type": "text"
      },
      "source": [
        "## Obsolete Training Function\n",
        "\n",
        "I tried to implement the training step with the k factor as described in the original paper. I achieved much worse results as with the function above. Maybe i did something wrong?!\n"
      ]
    },
    {
      "cell_type": "markdown",
      "metadata": {
        "id": "Z1RgC295RVxJ",
        "colab_type": "raw"
      },
      "source": [
        "@tf.function()\n",
        "def training_step(generator: Discriminator, discriminator: Discriminator, images:np.ndarray , k:int =1, batch_size = 256):\n",
        "    for _ in range(k):\n",
        "        with tf.GradientTape() as disc_tape:\n",
        "            noise = generator.generate_noise(batch_size, 100)\n",
        "            g_z = generator(noise)\n",
        "            d_x_true = discriminator(images) # Trainable?\n",
        "            d_x_fake = discriminator(g_z) # dx_of_gx\n",
        "\n",
        "            discriminator_loss = discriminator_objective(d_x_true, d_x_fake, smoothing_factor=0.9)\n",
        "            # Adjusting Gradient of Discriminator\n",
        "            gradients_of_discriminator = disc_tape.gradient(discriminator_loss, discriminator.trainable_variables)\n",
        "            discriminator_optimizer.apply_gradients(zip(gradients_of_discriminator, discriminator.trainable_variables)) # Takes a list of gradient and variables pairs\n",
        "    \n",
        "    with tf.GradientTape() as gen_tape:\n",
        "        noise = generator.generate_noise(batch_size, 100)\n",
        "        d_x_fake = discriminator(generator(noise))\n",
        "        generator_loss = generator_objective(d_x_fake)\n",
        "        # Adjusting Gradient of Generator\n",
        "        gradients_of_generator = gen_tape.gradient(generator_loss, generator.trainable_variables)\n",
        "        generator_optimizer.apply_gradients(zip(gradients_of_generator, generator.trainable_variables)) "
      ]
    },
    {
      "cell_type": "code",
      "metadata": {
        "id": "8PgIL5mbRVxK",
        "colab_type": "code",
        "colab": {}
      },
      "source": [
        ""
      ],
      "execution_count": null,
      "outputs": []
    },
    {
      "cell_type": "code",
      "metadata": {
        "id": "YDHpRBDRRVxb",
        "colab_type": "code",
        "colab": {}
      },
      "source": [
        ""
      ],
      "execution_count": null,
      "outputs": []
    }
  ]
}